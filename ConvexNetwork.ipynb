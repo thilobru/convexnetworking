{
 "cells": [
  {
   "cell_type": "code",
   "execution_count": 151,
   "metadata": {},
   "outputs": [],
   "source": [
    "import tensorflow as tf\n",
    "from tensorflow import keras\n",
    "import keras.backend as K\n",
    "from keras.layers import Dense, Reshape, Activation\n",
    "\n",
    "\n",
    "import numpy as np"
   ]
  },
  {
   "cell_type": "markdown",
   "metadata": {},
   "source": [
    "# Create Training Data"
   ]
  },
  {
   "cell_type": "code",
   "execution_count": 90,
   "metadata": {},
   "outputs": [],
   "source": [
    "xs = np.array([[ 0.0, 0.0, 0.0],\n",
    "               [ 0.1, 0.1, 0.1],\n",
    "               [ 0.1, 0.0, 0.0],\n",
    "               [ 0.0, 0.1, 0.0],\n",
    "               [ 0.0, 0.0, 0.1],\n",
    "               [ 1.0, 1.0, 1.0],\n",
    "               [-1.0,-1.0,-1.0],\n",
    "               [ 1.0, 0.0, 0.0],\n",
    "               [ 0.0, 1.0, 0.0],\n",
    "               [ 0.0, 0.0, 1.0]])\n",
    "ys = np.array([[1],\n",
    "               [1],\n",
    "               [1],\n",
    "               [1],\n",
    "               [1],\n",
    "               [-1],\n",
    "               [-1],\n",
    "               [-1],\n",
    "               [-1],\n",
    "               [-1]])"
   ]
  },
  {
   "cell_type": "code",
   "execution_count": 91,
   "metadata": {},
   "outputs": [
    {
     "name": "stdout",
     "output_type": "stream",
     "text": [
      "(10, 3) (10, 1)\n"
     ]
    }
   ],
   "source": [
    "print(xs.shape, ys.shape)"
   ]
  },
  {
   "cell_type": "markdown",
   "metadata": {},
   "source": [
    "# Custom Loss function to check if Inputs are in hull\n",
    "\n",
    "Wrinting custom loss function https://towardsdatascience.com/how-to-create-a-custom-loss-function-keras-3a89156ec69b\n",
    "\n",
    "Using input in loss https://stackoverflow.com/questions/55445712/custom-loss-function-in-keras-based-on-the-input-data\n",
    "\n",
    "Point inside the hull is 1, outside -1"
   ]
  },
  {
   "cell_type": "code",
   "execution_count": 113,
   "metadata": {},
   "outputs": [],
   "source": [
    "def custom_loss(xs):\n",
    "    def loss(y_true, y_pred):\n",
    "        # calculate loss, using y_pred\n",
    "        y_pred_fin = np.array([])\n",
    "        print(y_true)\n",
    "        print(xs, y_true, y_pred)\n",
    "        for each in xs:\n",
    "            # Weight*(Bias-Input)\n",
    "            \n",
    "            y_pred_fin.append(fin)\n",
    "        return y_pred_fin\n",
    "        \n",
    "    return loss"
   ]
  },
  {
   "cell_type": "markdown",
   "metadata": {},
   "source": [
    "# Build Model and fit"
   ]
  },
  {
   "cell_type": "code",
   "execution_count": 158,
   "metadata": {},
   "outputs": [],
   "source": [
    "model = keras.models.Sequential()\n",
    "\n",
    "dimensions = xs.shape[1]\n",
    "nhp = dimensions + 1\n",
    "\n",
    "model.add(Dense(1, input_shape=(dimensions,), activation='relu'))\n",
    "model.add(Dense((nhp)*64, activation = \"relu\"))\n",
    "model.add(Dense((nhp)*2, activation = \"relu\"))\n",
    "model.add(Reshape((nhp,2)))\n",
    "# model.add(Activation())\n",
    "model.add(Activation(activation=\"tanh\"))\n",
    "\n",
    "#model.compile(optimizer='Adam', loss=custom_loss(xs), metrics = [\"accuracy\"])\n",
    "model.compile(optimizer='Adam', loss=\"hinge\", metrics = [\"accuracy\"])\n",
    "\n",
    "# xs = np.array([[ 0.0, 0.0, 0.0]])\n",
    "# ys = np.array([[1]])\n"
   ]
  },
  {
   "cell_type": "code",
   "execution_count": 159,
   "metadata": {},
   "outputs": [
    {
     "name": "stdout",
     "output_type": "stream",
     "text": [
      "Model: \"sequential_23\"\n",
      "_________________________________________________________________\n",
      " Layer (type)                Output Shape              Param #   \n",
      "=================================================================\n",
      " dense_80 (Dense)            (None, 1)                 4         \n",
      "                                                                 \n",
      " dense_81 (Dense)            (None, 256)               512       \n",
      "                                                                 \n",
      " dense_82 (Dense)            (None, 8)                 2056      \n",
      "                                                                 \n",
      " reshape_6 (Reshape)         (None, 4, 2)              0         \n",
      "                                                                 \n",
      " activation (Activation)     (None, 4, 2)              0         \n",
      "                                                                 \n",
      "=================================================================\n",
      "Total params: 2,572\n",
      "Trainable params: 2,572\n",
      "Non-trainable params: 0\n",
      "_________________________________________________________________\n"
     ]
    }
   ],
   "source": [
    "history = model.fit(xs, ys, epochs=500, batch_size=1, verbose = 0)\n",
    "model.summary()"
   ]
  },
  {
   "cell_type": "code",
   "execution_count": 162,
   "metadata": {},
   "outputs": [
    {
     "name": "stdout",
     "output_type": "stream",
     "text": [
      "1/1 [==============================] - 0s 18ms/step\n"
     ]
    },
    {
     "data": {
      "text/plain": [
       "array([[[0.       , 0.       ],\n",
       "        [0.       , 0.9983118],\n",
       "        [0.       , 0.       ],\n",
       "        [0.       , 0.9976251]]], dtype=float32)"
      ]
     },
     "execution_count": 162,
     "metadata": {},
     "output_type": "execute_result"
    }
   ],
   "source": [
    "xs_test = np.array([[ 0.0, 0.0, 0.0]])\n",
    "\n",
    "model.predict(xs_test)"
   ]
  },
  {
   "cell_type": "code",
   "execution_count": 139,
   "metadata": {},
   "outputs": [
    {
     "data": {
      "image/png": "[encoded data removed]",
      "text/plain": [
       "<Figure size 432x288 with 1 Axes>"
      ]
     },
     "metadata": {
      "needs_background": "light"
     },
     "output_type": "display_data"
    }
   ],
   "source": [
    "from matplotlib import pyplot as plt\n",
    "plt.plot(history.history['accuracy'])\n",
    "plt.plot(history.history['loss'])\n",
    "plt.title('model accuracy')\n",
    "plt.ylabel('accuracy')\n",
    "plt.xlabel('epoch')\n",
    "plt.legend(['train', 'loss'], loc='upper left')\n",
    "plt.show()"
   ]
  },
  {
   "cell_type": "code",
   "execution_count": null,
   "metadata": {},
   "outputs": [],
   "source": [
    "print(history.history)"
   ]
  }
 ],
 "metadata": {
  "kernelspec": {
   "display_name": "Python 3.8.15 ('convexgating')",
   "language": "python",
   "name": "python3"
  },
  "language_info": {
   "codemirror_mode": {
    "name": "ipython",
    "version": 3
   },
   "file_extension": ".py",
   "mimetype": "text/x-python",
   "name": "python",
   "nbconvert_exporter": "python",
   "pygments_lexer": "ipython3",
   "version": "3.8.15"
  },
  "orig_nbformat": 4,
  "vscode": {
   "interpreter": {
    "hash": "c4563856c7e00c136b2f0bc8bd3f700cb142f11a70aad1c3bfb1747bfd95dcf4"
   }
  }
 },
 "nbformat": 4,
 "nbformat_minor": 2
}
