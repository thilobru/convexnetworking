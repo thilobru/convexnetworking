{
 "cells": [
  {
   "cell_type": "code",
   "execution_count": 6,
   "metadata": {},
   "outputs": [],
   "source": [
    "import tensorflow as tf\n",
    "from tensorflow import keras\n",
    "import keras.backend as K\n",
    "from keras.layers import Dense\n",
    "\n",
    "\n",
    "import numpy as np"
   ]
  },
  {
   "cell_type": "markdown",
   "metadata": {},
   "source": [
    "# Create Training Data"
   ]
  },
  {
   "cell_type": "code",
   "execution_count": 7,
   "metadata": {},
   "outputs": [],
   "source": [
    "xs = np.array([[ 0.0, 0.0, 0.0],\n",
    "               [ 1.0, 1.0, 1.0],\n",
    "               [-1.0,-1.0,-1.0],\n",
    "               [ 1.0, 0.0, 0.0],\n",
    "               [ 0.0, 1.0, 0.0],\n",
    "               [ 0.0, 0.0, 1.0]])\n",
    "ys = np.array([[1],\n",
    "               [0],\n",
    "               [0],\n",
    "               [0],\n",
    "               [0],\n",
    "               [0]])"
   ]
  },
  {
   "cell_type": "code",
   "execution_count": 14,
   "metadata": {},
   "outputs": [
    {
     "name": "stdout",
     "output_type": "stream",
     "text": [
      "(6, 3) (6, 1)\n"
     ]
    }
   ],
   "source": [
    "print(xs.shape, ys.shape)"
   ]
  },
  {
   "cell_type": "markdown",
   "metadata": {},
   "source": [
    "# Custom Loss function to check if Inputs are in hull\n",
    "\n",
    "Wrinting custom loss function https://towardsdatascience.com/how-to-create-a-custom-loss-function-keras-3a89156ec69b\n",
    "\n",
    "Using input in loss https://stackoverflow.com/questions/55445712/custom-loss-function-in-keras-based-on-the-input-data\n",
    "\n",
    "Point inside the hull is 1, outside -1"
   ]
  },
  {
   "cell_type": "code",
   "execution_count": 38,
   "metadata": {},
   "outputs": [],
   "source": [
    "def custom_loss(xs):\n",
    "    def loss(y_true, y_pred):\n",
    "        # calculate loss, using y_pred\n",
    "        y_pred_fin = np.array([])\n",
    "        print(y_true)\n",
    "        print(xs, y_true, y_pred)\n",
    "        for each in xs:\n",
    "            # Weight*(Bias-Input)\n",
    "            \n",
    "            # y_pred_fin.append(fin)\n",
    "        return y_pred_fin\n",
    "        \n",
    "    return loss"
   ]
  },
  {
   "cell_type": "markdown",
   "metadata": {},
   "source": [
    "# Build Model and fit"
   ]
  },
  {
   "cell_type": "code",
   "execution_count": 82,
   "metadata": {},
   "outputs": [],
   "source": [
    "model = keras.models.Sequential()\n",
    "\n",
    "model.add(Dense(xs.shape[0], input_shape=(xs.shape[1],), activation='relu'))\n",
    "model.add(Dense(1, activation = \"relu\"))\n",
    "\n",
    "#model.compile(optimizer='Adam', loss=custom_loss(xs), metrics = [\"accuracy\"])\n",
    "model.compile(optimizer='Adam', loss=\"binary_crossentropy\", metrics = [\"accuracy\"])\n",
    "\n",
    "# xs = np.array([[ 0.0, 0.0, 0.0]])\n",
    "# ys = np.array([[1]])\n"
   ]
  },
  {
   "cell_type": "code",
   "execution_count": 81,
   "metadata": {},
   "outputs": [
    {
     "name": "stdout",
     "output_type": "stream",
     "text": [
      "Model: \"sequential_27\"\n",
      "_________________________________________________________________\n",
      " Layer (type)                Output Shape              Param #   \n",
      "=================================================================\n",
      " dense_60 (Dense)            (None, 6)                 24        \n",
      "                                                                 \n",
      " dense_61 (Dense)            (None, 1)                 7         \n",
      "                                                                 \n",
      "=================================================================\n",
      "Total params: 31\n",
      "Trainable params: 31\n",
      "Non-trainable params: 0\n",
      "_________________________________________________________________\n"
     ]
    }
   ],
   "source": [
    "history = model.fit(xs, ys, epochs=10, batch_size=xs.shape[0], verbose = 0)\n",
    "model.summary()"
   ]
  },
  {
   "cell_type": "code",
   "execution_count": 72,
   "metadata": {},
   "outputs": [
    {
     "name": "stdout",
     "output_type": "stream",
     "text": [
      "1/1 [==============================] - 0s 45ms/step\n"
     ]
    },
    {
     "data": {
      "text/plain": [
       "array([[nan]], dtype=float32)"
      ]
     },
     "execution_count": 72,
     "metadata": {},
     "output_type": "execute_result"
    }
   ],
   "source": [
    "xs_test = np.array([[ 0.0, 0.0, 0.0]])\n",
    "\n",
    "model.predict(xs_test)"
   ]
  }
 ],
 "metadata": {
  "kernelspec": {
   "display_name": "Python 3.8.15 ('convexgating')",
   "language": "python",
   "name": "python3"
  },
  "language_info": {
   "codemirror_mode": {
    "name": "ipython",
    "version": 3
   },
   "file_extension": ".py",
   "mimetype": "text/x-python",
   "name": "python",
   "nbconvert_exporter": "python",
   "pygments_lexer": "ipython3",
   "version": "3.8.15"
  },
  "orig_nbformat": 4,
  "vscode": {
   "interpreter": {
    "hash": "c4563856c7e00c136b2f0bc8bd3f700cb142f11a70aad1c3bfb1747bfd95dcf4"
   }
  }
 },
 "nbformat": 4,
 "nbformat_minor": 2
}
