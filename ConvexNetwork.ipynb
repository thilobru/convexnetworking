{
 "cells": [
  {
   "cell_type": "code",
   "execution_count": 42,
   "metadata": {},
   "outputs": [],
   "source": [
    "import tensorflow as tf\n",
    "from tensorflow import keras\n",
    "import keras.backend as K\n",
    "from keras.layers import Input, Dense, Reshape, Activation, concatenate\n",
    "from keras.models import Model\n",
    "\n",
    "\n",
    "import numpy as np"
   ]
  },
  {
   "cell_type": "markdown",
   "metadata": {},
   "source": [
    "# Testing"
   ]
  },
  {
   "cell_type": "code",
   "execution_count": null,
   "metadata": {},
   "outputs": [],
   "source": [
    "from tensorflow import keras\n",
    "import numpy as np\n",
    "\n",
    "\n",
    "def in_convex_hull(point, plane_point, plane_normal):\n",
    "    if np.dot(plane, (point - a)) == 1:\n",
    "        return true\n",
    "    return false\n",
    "\n",
    "def custom_loss(actual, pred):\n",
    "    loss = 0\n",
    "    return loss\n",
    "def custom_layer():\n",
    "    return\n",
    "\n",
    "model = keras.Sequential([keras.layers.Dense(units=1, input_shape=[3])])\n",
    "model.add(keras.layers.Dense(1000))\n",
    "model.add(keras.layers.Dense(24))\n",
    "model.compile(optimizer='Adam', loss='BinaryCrossentropy', metrics = [\"accuracy\"])\n",
    "\n",
    "xs = np.array([np.random.rand(3) for i in range(800)])\n",
    "ys = np.array([np.eye(1)[np.random.choice(1)] for i in range(800)])\n",
    "\n",
    "history = model.fit(xs, ys, epochs=10, batch_size=1, verbose = 1)"
   ]
  },
  {
   "cell_type": "markdown",
   "metadata": {},
   "source": [
    "# Create Training Data"
   ]
  },
  {
   "cell_type": "code",
   "execution_count": null,
   "metadata": {},
   "outputs": [],
   "source": [
    "n_features = 12\n",
    "X, y = make_blobs(5000, n_features=n_features, centers=3, cluster_std=3)\n",
    "\n",
    "var_names = []\n",
    "for j in range(1, n_features+1):\n",
    "    var_names.append('feature_' + str(j))\n",
    "\n",
    "adata = ann.AnnData(X=X)\n",
    "adata.var.index = var_names"
   ]
  },
  {
   "cell_type": "code",
   "execution_count": 43,
   "metadata": {},
   "outputs": [],
   "source": [
    "xs = np.array([[ 0.0, 0.0, 0.0],\n",
    "               [ 0.1, 0.1, 0.1],\n",
    "               [ 0.1, 0.0, 0.0],\n",
    "               [ 0.0, 0.1, 0.0],\n",
    "               [ 0.0, 0.0, 0.1],\n",
    "               [ 1.0, 1.0, 1.0],\n",
    "               [-1.0,-1.0,-1.0],\n",
    "               [ 1.0, 0.0, 0.0],\n",
    "               [ 0.0, 1.0, 0.0],\n",
    "               [ 0.0, 0.0, 1.0]])\n",
    "ys = np.array([[1],\n",
    "               [1],\n",
    "               [1],\n",
    "               [1],\n",
    "               [1],\n",
    "               [-1],\n",
    "               [-1],\n",
    "               [-1],\n",
    "               [-1],\n",
    "               [-1]])"
   ]
  },
  {
   "cell_type": "code",
   "execution_count": 44,
   "metadata": {},
   "outputs": [
    {
     "name": "stdout",
     "output_type": "stream",
     "text": [
      "(10, 3) (10, 1)\n"
     ]
    }
   ],
   "source": [
    "print(xs.shape, ys.shape)"
   ]
  },
  {
   "cell_type": "markdown",
   "metadata": {},
   "source": [
    "# Custom Loss function to check if Inputs are in hull\n",
    "\n",
    "Wrinting custom loss function https://towardsdatascience.com/how-to-create-a-custom-loss-function-keras-3a89156ec69b\n",
    "\n",
    "Using input in loss https://stackoverflow.com/questions/55445712/custom-loss-function-in-keras-based-on-the-input-data\n",
    "\n",
    "Point inside the hull is 1, outside -1"
   ]
  },
  {
   "cell_type": "code",
   "execution_count": 45,
   "metadata": {},
   "outputs": [],
   "source": [
    "def custom_loss(xs):\n",
    "    def loss(y_true, y_pred):\n",
    "        # calculate loss, using y_pred\n",
    "        y_pred_fin = np.array([])\n",
    "        print(y_true)\n",
    "        print(xs, y_true, y_pred)\n",
    "        for each in xs:\n",
    "            # Weight*(Bias-Input)\n",
    "            \n",
    "            y_pred_fin.append(fin)\n",
    "        return y_pred_fin\n",
    "        \n",
    "    return loss"
   ]
  },
  {
   "cell_type": "markdown",
   "metadata": {},
   "source": [
    "# Custom Activation Function"
   ]
  },
  {
   "cell_type": "code",
   "execution_count": 46,
   "metadata": {},
   "outputs": [],
   "source": [
    "def ownDot(x):\n",
    "    return x[0] * (x[1] + x[2])"
   ]
  },
  {
   "cell_type": "markdown",
   "metadata": {},
   "source": [
    "# Build Model and fit\n",
    "\n",
    "https://stackoverflow.com/questions/46397258/how-to-merge-sequential-models-in-keras-2-0\n",
    "\n",
    "https://www.educative.io/answers/how-to-merge-two-different-models-in-keras\n",
    "\n",
    "https://stackoverflow.com/questions/35533395/keras-how-to-feed-input-directly-into-other-hidden-layers-of-the-neural-net-tha\n",
    "\n",
    "https://faroit.com/keras-docs/1.2.2/layers/core/#activation"
   ]
  },
  {
   "cell_type": "code",
   "execution_count": 53,
   "metadata": {},
   "outputs": [
    {
     "ename": "ValueError",
     "evalue": "Exception encountered when calling layer \"reshape_25\" (type Reshape).\n\ntotal size of new array must be unchanged, input_shape = [8], output_shape = [4, 2, 3]\n\nCall arguments received by layer \"reshape_25\" (type Reshape):\n  • inputs=tf.Tensor(shape=(None, 8), dtype=float32)",
     "output_type": "error",
     "traceback": [
      "\u001b[0;31m---------------------------------------------------------------------------\u001b[0m",
      "\u001b[0;31mValueError\u001b[0m                                Traceback (most recent call last)",
      "\u001b[1;32m/home/thilo/Documents/convexnetworking/ConvexNetwork.ipynb Cell 10\u001b[0m in \u001b[0;36m<cell line: 7>\u001b[0;34m()\u001b[0m\n\u001b[1;32m      <a href='vscode-notebook-cell:/home/thilo/Documents/convexnetworking/ConvexNetwork.ipynb#X10sZmlsZQ%3D%3D?line=4'>5</a>\u001b[0m \u001b[39m#al_1 = Dense((nhp)*64, activation = \"relu\", name = \"a_layer_1\")(defhp)\u001b[39;00m\n\u001b[1;32m      <a href='vscode-notebook-cell:/home/thilo/Documents/convexnetworking/ConvexNetwork.ipynb#X10sZmlsZQ%3D%3D?line=5'>6</a>\u001b[0m model1_1 \u001b[39m=\u001b[39m Dense((nhp)\u001b[39m*\u001b[39m\u001b[39m2\u001b[39m, activation \u001b[39m=\u001b[39m \u001b[39m\"\u001b[39m\u001b[39mrelu\u001b[39m\u001b[39m\"\u001b[39m, name \u001b[39m=\u001b[39m \u001b[39m\"\u001b[39m\u001b[39ma_layer_2\u001b[39m\u001b[39m\"\u001b[39m)(model1_in)\n\u001b[0;32m----> <a href='vscode-notebook-cell:/home/thilo/Documents/convexnetworking/ConvexNetwork.ipynb#X10sZmlsZQ%3D%3D?line=6'>7</a>\u001b[0m model1_out \u001b[39m=\u001b[39m Reshape((nhp,\u001b[39m2\u001b[39;49m,\u001b[39m3\u001b[39;49m))(model1_1)\n\u001b[1;32m      <a href='vscode-notebook-cell:/home/thilo/Documents/convexnetworking/ConvexNetwork.ipynb#X10sZmlsZQ%3D%3D?line=8'>9</a>\u001b[0m model2_in \u001b[39m=\u001b[39m Input(shape\u001b[39m=\u001b[39m(\u001b[39m4\u001b[39m,\u001b[39m2\u001b[39m,\u001b[39m3\u001b[39m,), name \u001b[39m=\u001b[39m \u001b[39m\"\u001b[39m\u001b[39mcoords_input\u001b[39m\u001b[39m\"\u001b[39m)\n\u001b[1;32m     <a href='vscode-notebook-cell:/home/thilo/Documents/convexnetworking/ConvexNetwork.ipynb#X10sZmlsZQ%3D%3D?line=10'>11</a>\u001b[0m concatenated \u001b[39m=\u001b[39m concatenate([model1_out,model2_in])\n",
      "File \u001b[0;32m~/miniconda3/envs/convexgating/lib/python3.8/site-packages/keras/utils/traceback_utils.py:70\u001b[0m, in \u001b[0;36mfilter_traceback.<locals>.error_handler\u001b[0;34m(*args, **kwargs)\u001b[0m\n\u001b[1;32m     67\u001b[0m     filtered_tb \u001b[39m=\u001b[39m _process_traceback_frames(e\u001b[39m.\u001b[39m__traceback__)\n\u001b[1;32m     68\u001b[0m     \u001b[39m# To get the full stack trace, call:\u001b[39;00m\n\u001b[1;32m     69\u001b[0m     \u001b[39m# `tf.debugging.disable_traceback_filtering()`\u001b[39;00m\n\u001b[0;32m---> 70\u001b[0m     \u001b[39mraise\u001b[39;00m e\u001b[39m.\u001b[39mwith_traceback(filtered_tb) \u001b[39mfrom\u001b[39;00m \u001b[39mNone\u001b[39m\n\u001b[1;32m     71\u001b[0m \u001b[39mfinally\u001b[39;00m:\n\u001b[1;32m     72\u001b[0m     \u001b[39mdel\u001b[39;00m filtered_tb\n",
      "File \u001b[0;32m~/miniconda3/envs/convexgating/lib/python3.8/site-packages/keras/layers/reshaping/reshape.py:118\u001b[0m, in \u001b[0;36mReshape._fix_unknown_dimension\u001b[0;34m(self, input_shape, output_shape)\u001b[0m\n\u001b[1;32m    116\u001b[0m     output_shape[unknown] \u001b[39m=\u001b[39m original \u001b[39m/\u001b[39m\u001b[39m/\u001b[39m known\n\u001b[1;32m    117\u001b[0m \u001b[39melif\u001b[39;00m original \u001b[39m!=\u001b[39m known:\n\u001b[0;32m--> 118\u001b[0m     \u001b[39mraise\u001b[39;00m \u001b[39mValueError\u001b[39;00m(msg)\n\u001b[1;32m    119\u001b[0m \u001b[39mreturn\u001b[39;00m output_shape\n",
      "\u001b[0;31mValueError\u001b[0m: Exception encountered when calling layer \"reshape_25\" (type Reshape).\n\ntotal size of new array must be unchanged, input_shape = [8], output_shape = [4, 2, 3]\n\nCall arguments received by layer \"reshape_25\" (type Reshape):\n  • inputs=tf.Tensor(shape=(None, 8), dtype=float32)"
     ]
    }
   ],
   "source": [
    "dimensions = xs.shape[1]\n",
    "nhp = dimensions + 1\n",
    "\n",
    "model1_in = Input(shape=(dimensions,), name = \"defhp_input\")\n",
    "#al_1 = Dense((nhp)*64, activation = \"relu\", name = \"a_layer_1\")(defhp)\n",
    "model1_1 = Dense((nhp)*2, activation = \"relu\", name = \"a_layer_2\")(model1_in)\n",
    "model1_out = Reshape((nhp,2,3))(model1_1)\n",
    "\n",
    "model2_in = Input(shape=(4,2,3,), name = \"coords_input\")\n",
    "\n",
    "concatenated = concatenate([model1_out,model2_in])\n",
    "# out = Activation(1,activation=\"tanh\")(concatenated)\n",
    "\n",
    "merged = Model(inputs = [model1_in, model2_in], outputs = concatenated, name = \"merged model\")\n",
    "merged.compile(loss='binary_crossentropy', optimizer='adam', \n",
    "metrics=['accuracy'])\n",
    "merged.summary\n",
    "# xs = np.array([[ 0.0, 0.0, 0.0]])\n",
    "# ys = np.array([[1]])\n",
    "merged.fit([xs, xs], y=ys, batch_size=1, epochs=20,\n",
    "             verbose=1, validation_split=0.1, shuffle=True)"
   ]
  },
  {
   "cell_type": "code",
   "execution_count": null,
   "metadata": {},
   "outputs": [],
   "source": []
  },
  {
   "cell_type": "code",
   "execution_count": 38,
   "metadata": {},
   "outputs": [],
   "source": [
    "dimensions = xs.shape[1]\n",
    "nhp = dimensions + 1\n",
    "\n",
    "model = keras.models.Sequential()\n",
    "\n",
    "model.add(Dense(1, input_shape=(dimensions,), activation='relu'))\n",
    "model.add(Dense((nhp)*64, activation = \"relu\"))\n",
    "model.add(Dense((nhp)*2, activation = \"relu\"))\n",
    "model.add(Reshape((nhp,2)))\n",
    "model.add(Activation(activation=\"tanh\"))\n",
    "\n",
    "#model.compile(optimizer='Adam', loss=custom_loss(xs), metrics = [\"accuracy\"])\n",
    "model.compile(optimizer='Adam', loss=\"hinge\", metrics = [\"accuracy\"])\n",
    "\n",
    "# xs = np.array([[ 0.0, 0.0, 0.0]])\n",
    "# ys = np.array([[1]])\n"
   ]
  },
  {
   "cell_type": "code",
   "execution_count": 39,
   "metadata": {},
   "outputs": [
    {
     "name": "stdout",
     "output_type": "stream",
     "text": [
      "Model: \"sequential_7\"\n",
      "_________________________________________________________________\n",
      " Layer (type)                Output Shape              Param #   \n",
      "=================================================================\n",
      " dense_15 (Dense)            (None, 1)                 4         \n",
      "                                                                 \n",
      " dense_16 (Dense)            (None, 256)               512       \n",
      "                                                                 \n",
      " dense_17 (Dense)            (None, 8)                 2056      \n",
      "                                                                 \n",
      " reshape_19 (Reshape)        (None, 4, 2)              0         \n",
      "                                                                 \n",
      " activation_10 (Activation)  (None, 4, 2)              0         \n",
      "                                                                 \n",
      "=================================================================\n",
      "Total params: 2,572\n",
      "Trainable params: 2,572\n",
      "Non-trainable params: 0\n",
      "_________________________________________________________________\n"
     ]
    }
   ],
   "source": [
    "history = model.fit(xs, ys, epochs=500, batch_size=1, verbose = 0)\n",
    "model.summary()"
   ]
  },
  {
   "cell_type": "code",
   "execution_count": 40,
   "metadata": {},
   "outputs": [
    {
     "name": "stdout",
     "output_type": "stream",
     "text": [
      "1/1 [==============================] - 0s 40ms/step\n"
     ]
    },
    {
     "data": {
      "text/plain": [
       "array([[[0.        , 0.9992884 ],\n",
       "        [0.        , 0.        ],\n",
       "        [0.        , 0.        ],\n",
       "        [0.99944466, 0.        ]]], dtype=float32)"
      ]
     },
     "execution_count": 40,
     "metadata": {},
     "output_type": "execute_result"
    }
   ],
   "source": [
    "xs_test = np.array([[ 0.0, 0.0, 0.0]])\n",
    "\n",
    "model.predict(xs_test)"
   ]
  },
  {
   "cell_type": "code",
   "execution_count": 41,
   "metadata": {},
   "outputs": [
    {
     "data": {
      "image/png": "[encoded data removed]",
      "text/plain": [
       "<Figure size 432x288 with 1 Axes>"
      ]
     },
     "metadata": {
      "needs_background": "light"
     },
     "output_type": "display_data"
    }
   ],
   "source": [
    "from matplotlib import pyplot as plt\n",
    "plt.plot(history.history['accuracy'])\n",
    "plt.plot(history.history['loss'])\n",
    "plt.title('model accuracy')\n",
    "plt.ylabel('accuracy')\n",
    "plt.xlabel('epoch')\n",
    "plt.legend(['train', 'loss'], loc='upper left')\n",
    "plt.show()"
   ]
  },
  {
   "cell_type": "code",
   "execution_count": null,
   "metadata": {},
   "outputs": [],
   "source": [
    "print(history.history)"
   ]
  },
  {
   "cell_type": "markdown",
   "metadata": {},
   "source": [
    "Old Style"
   ]
  }
 ],
 "metadata": {
  "kernelspec": {
   "display_name": "Python 3.8.15 ('convexgating')",
   "language": "python",
   "name": "python3"
  },
  "language_info": {
   "codemirror_mode": {
    "name": "ipython",
    "version": 3
   },
   "file_extension": ".py",
   "mimetype": "text/x-python",
   "name": "python",
   "nbconvert_exporter": "python",
   "pygments_lexer": "ipython3",
   "version": "3.8.15"
  },
  "orig_nbformat": 4,
  "vscode": {
   "interpreter": {
    "hash": "c4563856c7e00c136b2f0bc8bd3f700cb142f11a70aad1c3bfb1747bfd95dcf4"
   }
  }
 },
 "nbformat": 4,
 "nbformat_minor": 2
}
