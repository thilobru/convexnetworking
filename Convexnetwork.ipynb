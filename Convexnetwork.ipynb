{
 "cells": [
  {
   "cell_type": "code",
   "execution_count": 1,
   "metadata": {},
   "outputs": [
    {
     "name": "stderr",
     "output_type": "stream",
     "text": [
      "2022-12-08 14:36:01.667995: I tensorflow/core/platform/cpu_feature_guard.cc:193] This TensorFlow binary is optimized with oneAPI Deep Neural Network Library (oneDNN) to use the following CPU instructions in performance-critical operations:  AVX2 FMA\n",
      "To enable them in other operations, rebuild TensorFlow with the appropriate compiler flags.\n",
      "2022-12-08 14:36:01.763755: W tensorflow/compiler/xla/stream_executor/platform/default/dso_loader.cc:64] Could not load dynamic library 'libcudart.so.11.0'; dlerror: libcudart.so.11.0: cannot open shared object file: No such file or directory\n",
      "2022-12-08 14:36:01.763766: I tensorflow/compiler/xla/stream_executor/cuda/cudart_stub.cc:29] Ignore above cudart dlerror if you do not have a GPU set up on your machine.\n",
      "2022-12-08 14:36:02.357160: W tensorflow/compiler/xla/stream_executor/platform/default/dso_loader.cc:64] Could not load dynamic library 'libnvinfer.so.7'; dlerror: libnvinfer.so.7: cannot open shared object file: No such file or directory\n",
      "2022-12-08 14:36:02.357206: W tensorflow/compiler/xla/stream_executor/platform/default/dso_loader.cc:64] Could not load dynamic library 'libnvinfer_plugin.so.7'; dlerror: libnvinfer_plugin.so.7: cannot open shared object file: No such file or directory\n",
      "2022-12-08 14:36:02.357211: W tensorflow/compiler/tf2tensorrt/utils/py_utils.cc:38] TF-TRT Warning: Cannot dlopen some TensorRT libraries. If you would like to use Nvidia GPU with TensorRT, please make sure the missing libraries mentioned above are installed properly.\n"
     ]
    }
   ],
   "source": [
    "import tensorflow as tf\n",
    "from tensorflow import keras\n",
    "import keras.backend as K\n",
    "\n",
    "import numpy as np"
   ]
  },
  {
   "cell_type": "markdown",
   "metadata": {},
   "source": [
    "# Custom Layer \n",
    "computes whether input point is on the right side of the Plane"
   ]
  },
  {
   "cell_type": "code",
   "execution_count": 2,
   "metadata": {},
   "outputs": [],
   "source": [
    "class InHull(tf.keras.layers.Layer):\n",
    "    def __init__(self, units=1): # one output\n",
    "        super().__init__()\n",
    "        self.units = units\n",
    "    \n",
    "    def build(self, input_shape):\n",
    "        w_init=tf.random_normal_initializer()\n",
    "        self.w = tf.Variable(initial_value = w_init(shape = (input_shape[-1] + 1,input_shape[-1]),\n",
    "                                                    dtype=\"float32\"), \n",
    "                             trainable = True)\n",
    "        print(\"Weights in layer: \", self.w)\n",
    "        #print(\"length of layer: \", len(self.w)/2)\n",
    "        b_init = tf.zeros_initializer()\n",
    "        self.b = tf.Variable(initial_value = b_init(shape = (self.units,),dtype = \"float32\"), trainable = True)\n",
    "\n",
    "    def call(self, inputs):\n",
    "        dots = [K.sum(self.w[2*i] * (self.w[2*i+1] - inputs), axis = -1, keepdims = True) for i in 4]#range(len(self.w)/2)]\n",
    "        print(dots)\n",
    "        return K.sum(self.w[0] * (self.w[1] - inputs), axis = -1, keepdims = True)\n",
    "        # return K.batch_dot(inputs * self.w, axis =-1,keepdims = True) + self.b"
   ]
  },
  {
   "cell_type": "code",
   "execution_count": null,
   "metadata": {},
   "outputs": [],
   "source": [
    "from tensorflow import keras\n",
    "\n",
    "def in_convex_hull(point, plane_point, plane_normal):\n",
    "    if np.dot(plane, (point - a)) == 1:\n",
    "        return true\n",
    "    return false\n",
    "\n",
    "def custom_loss(actual, pred):\n",
    "    loss = 0\n",
    "    return loss\n",
    "\n",
    "model = keras.Sequential([InHull(1)])\n",
    "model.compile(optimizer='Adam', loss='BinaryCrossentropy', metrics = [\"accuracy\"])\n",
    "\n",
    "xs = np.array([[ 0.0, 0.0, 0.0],\n",
    "               [ 1.0, 1.0, 1.0],\n",
    "               [-1.0,-1.0,-1.0]])\n",
    "ys = np.array([[1],\n",
    "               [-1],\n",
    "               [-1]])\n",
    "\n",
    "history = model.fit(xs, ys, epochs=1000, batch_size=1, verbose = 1)"
   ]
  },
  {
   "cell_type": "code",
   "execution_count": 6,
   "metadata": {},
   "outputs": [
    {
     "name": "stdout",
     "output_type": "stream",
     "text": [
      "[0, 1, 2, 3, 4, 5, 6, 7, 8, 9]\n"
     ]
    }
   ],
   "source": [
    "thissss = [i for i in range(10)]\n",
    "print(thissss)"
   ]
  }
 ],
 "metadata": {
  "kernelspec": {
   "display_name": "Python 3.8.13 ('convexgating')",
   "language": "python",
   "name": "python3"
  },
  "language_info": {
   "codemirror_mode": {
    "name": "ipython",
    "version": 3
   },
   "file_extension": ".py",
   "mimetype": "text/x-python",
   "name": "python",
   "nbconvert_exporter": "python",
   "pygments_lexer": "ipython3",
   "version": "3.8.15"
  },
  "orig_nbformat": 4,
  "vscode": {
   "interpreter": {
    "hash": "c4563856c7e00c136b2f0bc8bd3f700cb142f11a70aad1c3bfb1747bfd95dcf4"
   }
  }
 },
 "nbformat": 4,
 "nbformat_minor": 2
}
