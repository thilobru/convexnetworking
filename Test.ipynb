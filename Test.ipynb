{
 "cells": [
  {
   "cell_type": "markdown",
   "id": "86533d31",
   "metadata": {},
   "source": [
    "# Testing the Convex Networking Model"
   ]
  },
  {
   "cell_type": "markdown",
   "id": "e5027109",
   "metadata": {},
   "source": [
    "This notebook demonstrates how to load the `InConvexHull` custom layer, generate synthetic test data, build and train a simple model, and make predictions."
   ]
  },
  {
   "cell_type": "code",
   "execution_count": null,
   "id": "4b0338dd",
   "metadata": {},
   "outputs": [],
   "source": [
    "!pip install -r requirements"
   ]
  },
  {
   "cell_type": "code",
   "execution_count": 4,
   "id": "5a7a65ef",
   "metadata": {},
   "outputs": [
    {
     "name": "stdout",
     "output_type": "stream",
     "text": [
      "TensorFlow version: 2.12.0\n",
      "Custom layer 'InConvexHull' imported successfully.\n"
     ]
    }
   ],
   "source": [
    "import numpy as np\n",
    "import tensorflow as tf\n",
    "from tensorflow import keras\n",
    "\n",
    "# Import the custom layer from the convexNetworking.py file\n",
    "try:\n",
    "    from convexNetworking import InConvexHull\n",
    "except ImportError:\n",
    "    # If the file is not directly in the path, you might need to adjust the import\n",
    "    # For example, if it's in a subdirectory named 'convexNetworking'\n",
    "    import sys\n",
    "    import os\n",
    "    # Assuming convexNetworking.py is in the parent directory of this notebook\n",
    "    sys.path.append(os.path.abspath(os.path.join(os.getcwd(), '..')))\n",
    "    from convexNetworking import InConvexHull\n",
    "\n",
    "print(\"TensorFlow version:\", tf.__version__)\n",
    "print(\"Custom layer 'InConvexHull' imported successfully.\")"
   ]
  },
  {
   "cell_type": "markdown",
   "id": "c407c040",
   "metadata": {},
   "source": [
    "## Generate Test Data\n",
    "\n",
    "We will generate simple 3D data points that are either inside or outside a small region around the origin. Points inside the region will be labeled as 1, and points outside as 0."
   ]
  },
  {
   "cell_type": "code",
   "execution_count": 5,
   "id": "312d52e9",
   "metadata": {},
   "outputs": [
    {
     "name": "stdout",
     "output_type": "stream",
     "text": [
      "Generated 1000 samples with 3 dimensions.\n",
      "500.0 points labeled as inside (1).\n"
     ]
    }
   ],
   "source": [
    "np.random.seed(42)\n",
    "num_samples = 1000\n",
    "input_dim = 3\n",
    "\n",
    "# Points inside a small cube around origin (label 1)\n",
    "xs_inside = np.random.rand(num_samples // 2, input_dim) * 0.2 - 0.1 # Centered around 0, small range\n",
    "ys_inside = np.ones((num_samples // 2, 1), dtype=np.float32)\n",
    "\n",
    "# Points outside (label 0)\n",
    "xs_outside = np.random.rand(num_samples // 2, input_dim) * 2.0 - 1.0 # Larger range\n",
    "# Ensure some outside points are not accidentally inside the small cube\n",
    "outside_mask = np.any(np.abs(xs_outside) > 0.1, axis=1)\n",
    "xs_outside = xs_outside[outside_mask]\n",
    "ys_outside = np.zeros((xs_outside.shape[0], 1), dtype=np.float32)\n",
    "\n",
    "# Combine data\n",
    "xs = np.concatenate([xs_inside, xs_outside], axis=0)\n",
    "ys = np.concatenate([ys_inside, ys_outside], axis=0)\n",
    "\n",
    "# Shuffle data\n",
    "indices = np.arange(xs.shape[0])\n",
    "np.random.shuffle(indices)\n",
    "xs = xs[indices]\n",
    "ys = ys[indices]\n",
    "\n",
    "print(f\"Generated {len(xs)} samples with {input_dim} dimensions.\")\n",
    "print(f\"{np.sum(ys)} points labeled as inside (1).\")"
   ]
  },
  {
   "cell_type": "markdown",
   "id": "2b0969cb",
   "metadata": {},
   "source": [
    "## Build and Compile the Model\n",
    "\n",
    "We will create a simple Sequential model with the `InConvexHull` layer as the main component. The layer will learn the hyperplanes defining the convex hull."
   ]
  },
  {
   "cell_type": "code",
   "execution_count": 6,
   "id": "9c173174",
   "metadata": {},
   "outputs": [
    {
     "name": "stdout",
     "output_type": "stream",
     "text": [
      "Model: \"sequential\"\n",
      "_________________________________________________________________\n",
      " Layer (type)                Output Shape              Param #   \n",
      "=================================================================\n",
      " in_convex_hull (InConvexHul  (None, 1)                24        \n",
      " l)                                                              \n",
      "                                                                 \n",
      "=================================================================\n",
      "Total params: 24\n",
      "Trainable params: 24\n",
      "Non-trainable params: 0\n",
      "_________________________________________________________________\n"
     ]
    }
   ],
   "source": [
    "# Define the model using the custom layer\n",
    "# Let's try to learn a hull defined by a certain number of hyperplanes\n",
    "num_hyperplanes_to_learn = 6 # For a 3D space, 6 planes can form a cube-like shape\n",
    "\n",
    "model = keras.Sequential([\n",
    "    # Input layer - specify input shape\n",
    "    keras.layers.InputLayer(input_shape=(input_dim,)),\n",
    "    # Add the custom convex hull layer\n",
    "    InConvexHull(num_hyperplanes=num_hyperplanes_to_learn),\n",
    "    # The custom layer outputs a score between 0 and 1, suitable for binary classification\n",
    "])\n",
    "\n",
    "# Compile the model\n",
    "# Use BinaryCrossentropy as the loss function since the output is a score/probability for binary classification\n",
    "model.compile(optimizer='Adam',\n",
    "              loss='BinaryCrossentropy',\n",
    "              metrics=['accuracy'])\n",
    "\n",
    "# Print model summary\n",
    "model.summary()"
   ]
  },
  {
   "cell_type": "markdown",
   "id": "aef997ba",
   "metadata": {},
   "source": [
    "## Train the Model\n",
    "\n",
    "Now we train the model using the generated data. The model will learn the parameters of the hyperplanes to distinguish between points inside and outside the target region."
   ]
  },
  {
   "cell_type": "code",
   "execution_count": 7,
   "id": "ecf45fe1",
   "metadata": {},
   "outputs": [
    {
     "name": "stdout",
     "output_type": "stream",
     "text": [
      "\n",
      "Training the model...\n",
      "Epoch 1/50\n",
      "25/25 [==============================] - 0s 6ms/step - loss: 1.3774 - accuracy: 0.5163 - val_loss: 0.9774 - val_accuracy: 0.4350\n",
      "Epoch 2/50\n",
      "25/25 [==============================] - 0s 1ms/step - loss: 0.6190 - accuracy: 0.5163 - val_loss: 0.5112 - val_accuracy: 0.4350\n",
      "Epoch 3/50\n",
      "25/25 [==============================] - 0s 2ms/step - loss: 0.3729 - accuracy: 0.8163 - val_loss: 0.3388 - val_accuracy: 0.9900\n",
      "Epoch 4/50\n",
      "25/25 [==============================] - 0s 2ms/step - loss: 0.2650 - accuracy: 0.9912 - val_loss: 0.2553 - val_accuracy: 0.9900\n",
      "Epoch 5/50\n",
      "25/25 [==============================] - 0s 2ms/step - loss: 0.2073 - accuracy: 0.9862 - val_loss: 0.2043 - val_accuracy: 0.9900\n",
      "Epoch 6/50\n",
      "25/25 [==============================] - 0s 2ms/step - loss: 0.1704 - accuracy: 0.9850 - val_loss: 0.1714 - val_accuracy: 0.9900\n",
      "Epoch 7/50\n",
      "25/25 [==============================] - 0s 2ms/step - loss: 0.1455 - accuracy: 0.9837 - val_loss: 0.1482 - val_accuracy: 0.9850\n",
      "Epoch 8/50\n",
      "25/25 [==============================] - 0s 1ms/step - loss: 0.1275 - accuracy: 0.9837 - val_loss: 0.1311 - val_accuracy: 0.9850\n",
      "Epoch 9/50\n",
      "25/25 [==============================] - 0s 2ms/step - loss: 0.1136 - accuracy: 0.9837 - val_loss: 0.1187 - val_accuracy: 0.9850\n",
      "Epoch 10/50\n",
      "25/25 [==============================] - 0s 1ms/step - loss: 0.1028 - accuracy: 0.9837 - val_loss: 0.1087 - val_accuracy: 0.9850\n",
      "Epoch 11/50\n",
      "25/25 [==============================] - 0s 1ms/step - loss: 0.0941 - accuracy: 0.9837 - val_loss: 0.1002 - val_accuracy: 0.9850\n",
      "Epoch 12/50\n",
      "25/25 [==============================] - 0s 2ms/step - loss: 0.0869 - accuracy: 0.9862 - val_loss: 0.0937 - val_accuracy: 0.9850\n",
      "Epoch 13/50\n",
      "25/25 [==============================] - 0s 2ms/step - loss: 0.0807 - accuracy: 0.9862 - val_loss: 0.0886 - val_accuracy: 0.9850\n",
      "Epoch 14/50\n",
      "25/25 [==============================] - 0s 1ms/step - loss: 0.0754 - accuracy: 0.9862 - val_loss: 0.0840 - val_accuracy: 0.9850\n",
      "Epoch 15/50\n",
      "25/25 [==============================] - 0s 2ms/step - loss: 0.0710 - accuracy: 0.9862 - val_loss: 0.0802 - val_accuracy: 0.9850\n",
      "Epoch 16/50\n",
      "25/25 [==============================] - 0s 2ms/step - loss: 0.0671 - accuracy: 0.9875 - val_loss: 0.0765 - val_accuracy: 0.9850\n",
      "Epoch 17/50\n",
      "25/25 [==============================] - 0s 2ms/step - loss: 0.0636 - accuracy: 0.9875 - val_loss: 0.0736 - val_accuracy: 0.9850\n",
      "Epoch 18/50\n",
      "25/25 [==============================] - 0s 1ms/step - loss: 0.0605 - accuracy: 0.9875 - val_loss: 0.0710 - val_accuracy: 0.9850\n",
      "Epoch 19/50\n",
      "25/25 [==============================] - 0s 2ms/step - loss: 0.0577 - accuracy: 0.9875 - val_loss: 0.0689 - val_accuracy: 0.9850\n",
      "Epoch 20/50\n",
      "25/25 [==============================] - 0s 1ms/step - loss: 0.0551 - accuracy: 0.9875 - val_loss: 0.0669 - val_accuracy: 0.9850\n",
      "Epoch 21/50\n",
      "25/25 [==============================] - 0s 2ms/step - loss: 0.0527 - accuracy: 0.9875 - val_loss: 0.0649 - val_accuracy: 0.9850\n",
      "Epoch 22/50\n",
      "25/25 [==============================] - 0s 2ms/step - loss: 0.0507 - accuracy: 0.9887 - val_loss: 0.0635 - val_accuracy: 0.9850\n",
      "Epoch 23/50\n",
      "25/25 [==============================] - 0s 2ms/step - loss: 0.0487 - accuracy: 0.9887 - val_loss: 0.0620 - val_accuracy: 0.9900\n",
      "Epoch 24/50\n",
      "25/25 [==============================] - 0s 2ms/step - loss: 0.0468 - accuracy: 0.9887 - val_loss: 0.0608 - val_accuracy: 0.9900\n",
      "Epoch 25/50\n",
      "25/25 [==============================] - 0s 2ms/step - loss: 0.0452 - accuracy: 0.9887 - val_loss: 0.0594 - val_accuracy: 0.9900\n",
      "Epoch 26/50\n",
      "25/25 [==============================] - 0s 2ms/step - loss: 0.0436 - accuracy: 0.9900 - val_loss: 0.0585 - val_accuracy: 0.9900\n",
      "Epoch 27/50\n",
      "25/25 [==============================] - 0s 1ms/step - loss: 0.0421 - accuracy: 0.9912 - val_loss: 0.0574 - val_accuracy: 0.9900\n",
      "Epoch 28/50\n",
      "25/25 [==============================] - 0s 1ms/step - loss: 0.0408 - accuracy: 0.9925 - val_loss: 0.0563 - val_accuracy: 0.9900\n",
      "Epoch 29/50\n",
      "25/25 [==============================] - 0s 1ms/step - loss: 0.0394 - accuracy: 0.9925 - val_loss: 0.0556 - val_accuracy: 0.9900\n",
      "Epoch 30/50\n",
      "25/25 [==============================] - 0s 2ms/step - loss: 0.0383 - accuracy: 0.9937 - val_loss: 0.0546 - val_accuracy: 0.9900\n",
      "Epoch 31/50\n",
      "25/25 [==============================] - 0s 2ms/step - loss: 0.0370 - accuracy: 0.9937 - val_loss: 0.0540 - val_accuracy: 0.9900\n",
      "Epoch 32/50\n",
      "25/25 [==============================] - 0s 1ms/step - loss: 0.0360 - accuracy: 0.9937 - val_loss: 0.0532 - val_accuracy: 0.9900\n",
      "Epoch 33/50\n",
      "25/25 [==============================] - 0s 1ms/step - loss: 0.0349 - accuracy: 0.9937 - val_loss: 0.0524 - val_accuracy: 0.9900\n",
      "Epoch 34/50\n",
      "25/25 [==============================] - 0s 1ms/step - loss: 0.0339 - accuracy: 0.9950 - val_loss: 0.0518 - val_accuracy: 0.9900\n",
      "Epoch 35/50\n",
      "25/25 [==============================] - 0s 1ms/step - loss: 0.0330 - accuracy: 0.9950 - val_loss: 0.0513 - val_accuracy: 0.9900\n",
      "Epoch 36/50\n",
      "25/25 [==============================] - 0s 1ms/step - loss: 0.0321 - accuracy: 0.9950 - val_loss: 0.0508 - val_accuracy: 0.9900\n",
      "Epoch 37/50\n",
      "25/25 [==============================] - 0s 1ms/step - loss: 0.0313 - accuracy: 0.9950 - val_loss: 0.0502 - val_accuracy: 0.9900\n",
      "Epoch 38/50\n",
      "25/25 [==============================] - 0s 1ms/step - loss: 0.0305 - accuracy: 0.9950 - val_loss: 0.0498 - val_accuracy: 0.9900\n",
      "Epoch 39/50\n",
      "25/25 [==============================] - 0s 2ms/step - loss: 0.0297 - accuracy: 0.9950 - val_loss: 0.0494 - val_accuracy: 0.9900\n",
      "Epoch 40/50\n",
      "25/25 [==============================] - 0s 1ms/step - loss: 0.0290 - accuracy: 0.9950 - val_loss: 0.0488 - val_accuracy: 0.9900\n",
      "Epoch 41/50\n",
      "25/25 [==============================] - 0s 1ms/step - loss: 0.0283 - accuracy: 0.9950 - val_loss: 0.0484 - val_accuracy: 0.9900\n",
      "Epoch 42/50\n",
      "25/25 [==============================] - 0s 2ms/step - loss: 0.0275 - accuracy: 0.9950 - val_loss: 0.0481 - val_accuracy: 0.9900\n",
      "Epoch 43/50\n",
      "25/25 [==============================] - 0s 1ms/step - loss: 0.0269 - accuracy: 0.9950 - val_loss: 0.0478 - val_accuracy: 0.9900\n",
      "Epoch 44/50\n",
      "25/25 [==============================] - 0s 2ms/step - loss: 0.0263 - accuracy: 0.9950 - val_loss: 0.0476 - val_accuracy: 0.9900\n",
      "Epoch 45/50\n",
      "25/25 [==============================] - 0s 2ms/step - loss: 0.0256 - accuracy: 0.9950 - val_loss: 0.0472 - val_accuracy: 0.9900\n",
      "Epoch 46/50\n",
      "25/25 [==============================] - 0s 2ms/step - loss: 0.0251 - accuracy: 0.9950 - val_loss: 0.0468 - val_accuracy: 0.9900\n",
      "Epoch 47/50\n",
      "25/25 [==============================] - 0s 2ms/step - loss: 0.0245 - accuracy: 0.9950 - val_loss: 0.0467 - val_accuracy: 0.9900\n",
      "Epoch 48/50\n",
      "25/25 [==============================] - 0s 1ms/step - loss: 0.0240 - accuracy: 0.9950 - val_loss: 0.0464 - val_accuracy: 0.9900\n",
      "Epoch 49/50\n",
      "25/25 [==============================] - 0s 2ms/step - loss: 0.0235 - accuracy: 0.9950 - val_loss: 0.0463 - val_accuracy: 0.9900\n",
      "Epoch 50/50\n",
      "25/25 [==============================] - 0s 2ms/step - loss: 0.0230 - accuracy: 0.9950 - val_loss: 0.0460 - val_accuracy: 0.9900\n"
     ]
    }
   ],
   "source": [
    "print(\"\\nTraining the model...\")\n",
    "# You might need to adjust the number of epochs based on your data and desired accuracy\n",
    "history = model.fit(xs, ys, epochs=50, batch_size=32, validation_split=0.2, verbose=1)"
   ]
  },
  {
   "cell_type": "markdown",
   "id": "7b0f0117",
   "metadata": {},
   "source": [
    "## Evaluate the Model (Optional)\n",
    "\n",
    "You can evaluate the trained model on the training or a separate test dataset."
   ]
  },
  {
   "cell_type": "code",
   "execution_count": 8,
   "id": "24c033cf",
   "metadata": {},
   "outputs": [
    {
     "name": "stdout",
     "output_type": "stream",
     "text": [
      "\n",
      "Training Loss: 0.0273, Training Accuracy: 0.9950\n"
     ]
    }
   ],
   "source": [
    "# Evaluate the model on the training data\n",
    "loss, accuracy = model.evaluate(xs, ys, verbose=0)\n",
    "print(f\"\\nTraining Loss: {loss:.4f}, Training Accuracy: {accuracy:.4f}\")"
   ]
  },
  {
   "cell_type": "markdown",
   "id": "8dda091d",
   "metadata": {},
   "source": [
    "## Make Predictions\n",
    "\n",
    "You can use the trained model to predict the 'hull score' for new data points. A score closer to 1 indicates that the point is likely inside the learned convex hull."
   ]
  },
  {
   "cell_type": "code",
   "execution_count": 9,
   "id": "543516f8",
   "metadata": {},
   "outputs": [
    {
     "name": "stdout",
     "output_type": "stream",
     "text": [
      "1/1 [==============================] - 0s 55ms/step\n",
      "\n",
      "Hull scores for test points:\n",
      "Point: [0. 0. 0.], Hull Score: 0.9898\n",
      "Point: [0.05 0.05 0.05], Hull Score: 0.9842\n",
      "Point: [0.5 0.5 0.5], Hull Score: 0.0000\n",
      "Point: [-0.2  0.2 -0.2], Hull Score: 0.3456\n",
      "Point: [10. 10. 10.], Hull Score: 0.0000\n",
      "\n",
      "Classification based on threshold > 0.5:\n",
      "Point: [0. 0. 0.], Predicted Inside: True\n",
      "Point: [0.05 0.05 0.05], Predicted Inside: True\n",
      "Point: [0.5 0.5 0.5], Predicted Inside: False\n",
      "Point: [-0.2  0.2 -0.2], Predicted Inside: False\n",
      "Point: [10. 10. 10.], Predicted Inside: False\n"
     ]
    }
   ],
   "source": [
    "# Create some new test points\n",
    "test_points = np.array([\n",
    "    [0.0, 0.0, 0.0], # Inside\n",
    "    [0.05, 0.05, 0.05], # Inside\n",
    "    [0.5, 0.5, 0.5], # Outside\n",
    "    [-0.2, 0.2, -0.2], # Outside\n",
    "    [10.0, 10.0, 10.0] # Far outside\n",
    "], dtype=np.float32)\n",
    "\n",
    "# Predict the hull scores\n",
    "predictions = model.predict(test_points)\n",
    "\n",
    "print(\"\\nHull scores for test points:\")\n",
    "for i, point in enumerate(test_points):\n",
    "    print(f\"Point: {point}, Hull Score: {predictions[i][0]:.4f}\")\n",
    "\n",
    "# You can set a threshold to classify points (e.g., score > 0.5)\n",
    "threshold = 0.5\n",
    "print(f\"\\nClassification based on threshold > {threshold}:\")\n",
    "for i, point in enumerate(test_points):\n",
    "    is_inside = predictions[i][0] > threshold\n",
    "    print(f\"Point: {point}, Predicted Inside: {is_inside}\")"
   ]
  }
 ],
 "metadata": {
  "kernelspec": {
   "display_name": "Python 3",
   "language": "python",
   "name": "python3"
  },
  "language_info": {
   "codemirror_mode": {
    "name": "ipython",
    "version": 3
   },
   "file_extension": ".py",
   "mimetype": "text/x-python",
   "name": "python",
   "nbconvert_exporter": "python",
   "pygments_lexer": "ipython3",
   "version": "3.11.11"
  }
 },
 "nbformat": 4,
 "nbformat_minor": 5
}
