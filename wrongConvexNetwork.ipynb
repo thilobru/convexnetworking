{
 "cells": [
  {
   "cell_type": "code",
   "execution_count": 8,
   "metadata": {},
   "outputs": [],
   "source": [
    "import tensorflow as tf\n",
    "from tensorflow import keras\n",
    "import keras.backend as K\n",
    "\n",
    "import numpy as np"
   ]
  },
  {
   "cell_type": "markdown",
   "metadata": {},
   "source": [
    "# Create Training Data"
   ]
  },
  {
   "cell_type": "code",
   "execution_count": null,
   "metadata": {},
   "outputs": [],
   "source": [
    "xs = np.array([[ 0.0, 0.0, 0.0],\n",
    "               [ 1.0, 1.0, 1.0],\n",
    "               [-1.0,-1.0,-1.0],\n",
    "               [ 1.0, 0.0, 0.0],\n",
    "               [ 0.0, 1.0, 0.0],\n",
    "               [ 0.0, 0.0, 1.0]])\n",
    "ys = np.array([[1],\n",
    "               [0],\n",
    "               [0],\n",
    "               [0],\n",
    "               [0],\n",
    "               [0]])"
   ]
  },
  {
   "cell_type": "markdown",
   "metadata": {},
   "source": [
    "# Custom Layer \n",
    "computes whether input point is on the right side of the Plane"
   ]
  },
  {
   "cell_type": "code",
   "execution_count": 77,
   "metadata": {},
   "outputs": [],
   "source": [
    "class InHull(tf.keras.layers.Layer):\n",
    "    def __init__(self, units=1): # one output\n",
    "        super().__init__()\n",
    "        self.units = units\n",
    "    \n",
    "    def build(self, input_shape):\n",
    "        w_init=tf.random_normal_initializer()\n",
    "        nHplanes = input_shape[-1] + 1\n",
    "        nDims = input_shape[-1]\n",
    "        self.w = tf.Variable(initial_value = w_init(shape = (nHplanes, nDims),\n",
    "                                                    dtype=\"float32\"), \n",
    "                             trainable = True)\n",
    "        print(\"Weights in layer: \", self.w)\n",
    "        #print(\"length of layer: \", len(self.w)/2)\n",
    "        b_init = tf.zeros_initializer()\n",
    "        self.b = tf.Variable(initial_value = b_init(shape = (nHplanes, nDims),\n",
    "                                                    dtype = \"float32\"), \n",
    "                             trainable = True)\n",
    "        print(\"Bias in Layer: \", self.b)\n",
    "\n",
    "    def call(self, inputs):\n",
    "        # print(\"weights:\", self.w)\n",
    "        # print(\"biases:\", self.b)\n",
    "        # print(\"inputs:\", inputs)\n",
    "        # ntpoint = inputs\n",
    "        # point = np.transpose(ntpoint)\n",
    "        # print(\"point:\", point)\n",
    "        # dots = [K.sum(self.w[i] * (self.b[i] - point), axis = -1, keepdims = True) for i in range(4)]#range(len(self.w)/2)]\n",
    "        # print(\"dots\", dots)\n",
    "        res = K.sum(self.w[0] * (self.w[1] - inputs), axis = -1, keepdims = True)\n",
    "        print(res)\n",
    "        return tf.Tensor(1.0)\n",
    "        if res >= 0.0: res = 1\n",
    "        else: res = 0\n",
    "        return 1\n",
    "        # return K.sum(self.w[0] * (self.w[1] - inputs), axis = -1, keepdims = True)\n",
    "        # return K.batch_dot(inputs * self.w, axis =-1,keepdims = True) + self.b"
   ]
  },
  {
   "cell_type": "markdown",
   "metadata": {},
   "source": [
    "# Custom Loss"
   ]
  },
  {
   "cell_type": "code",
   "execution_count": 34,
   "metadata": {},
   "outputs": [],
   "source": [
    "def in_convex_hull(point, plane_point, plane_normal):\n",
    "    if np.dot(plane, (point - a)) == 1:\n",
    "        return true\n",
    "    return false\n",
    "\n",
    "def custom_loss(xs):\n",
    "    def loss(y_true, y_pred):\n",
    "        if y_pred >= 0:\n",
    "            y_pred = 1.0\n",
    "        else: y_pred = 0.0\n",
    "        return K.square(y_true - y_pred)\n",
    "    return loss"
   ]
  },
  {
   "cell_type": "markdown",
   "metadata": {},
   "source": [
    "# Create Training Data"
   ]
  },
  {
   "cell_type": "code",
   "execution_count": 71,
   "metadata": {},
   "outputs": [],
   "source": [
    "xs = np.array([[ 0.0, 0.0, 0.0],\n",
    "               [ 1.0, 1.0, 1.0],\n",
    "               [-1.0,-1.0,-1.0],\n",
    "               [ 1.0, 0.0, 0.0],\n",
    "               [ 0.0, 1.0, 0.0],\n",
    "               [ 0.0, 0.0, 1.0]])\n",
    "ys = np.array([[1],\n",
    "               [0],\n",
    "               [0],\n",
    "               [0],\n",
    "               [0],\n",
    "               [0]])\n",
    "# xs = np.array([[ 0.0, 0.0, 0.0]])\n",
    "# ys = np.array([[1.0]])"
   ]
  },
  {
   "cell_type": "markdown",
   "metadata": {},
   "source": [
    "# Compile Model and fit"
   ]
  },
  {
   "cell_type": "code",
   "execution_count": 78,
   "metadata": {},
   "outputs": [
    {
     "name": "stdout",
     "output_type": "stream",
     "text": [
      "Weights in layer:  <tf.Variable 'in_hull_28/Variable:0' shape=(4, 3) dtype=float32, numpy=\n",
      "array([[ 0.03948059,  0.03049618,  0.02840161],\n",
      "       [ 0.06689744, -0.0031126 ,  0.0107098 ],\n",
      "       [-0.02699341, -0.00907688,  0.06186764],\n",
      "       [-0.04331487, -0.03236471,  0.04431604]], dtype=float32)>\n",
      "Bias in Layer:  <tf.Variable 'in_hull_28/Variable:0' shape=(4, 3) dtype=float32, numpy=\n",
      "array([[0., 0., 0.],\n",
      "       [0., 0., 0.],\n",
      "       [0., 0., 0.],\n",
      "       [0., 0., 0.]], dtype=float32)>\n",
      "Tensor(\"in_hull_28/Sum:0\", shape=(1, 1), dtype=float32)\n",
      "Tensor(\"sequential_28/in_hull_28/Sum:0\", shape=(1, 1), dtype=float32)\n"
     ]
    },
    {
     "ename": "TypeError",
     "evalue": "in user code:\n\n    File \"/home/thilo/miniconda3/envs/convexgating/lib/python3.8/site-packages/keras/engine/training.py\", line 1249, in train_function  *\n        return step_function(self, iterator)\n    File \"/home/thilo/miniconda3/envs/convexgating/lib/python3.8/site-packages/keras/engine/training.py\", line 1233, in step_function  **\n        outputs = model.distribute_strategy.run(run_step, args=(data,))\n    File \"/home/thilo/miniconda3/envs/convexgating/lib/python3.8/site-packages/keras/engine/training.py\", line 1222, in run_step  **\n        outputs = model.train_step(data)\n    File \"/home/thilo/miniconda3/envs/convexgating/lib/python3.8/site-packages/keras/engine/training.py\", line 1023, in train_step\n        y_pred = self(x, training=True)\n    File \"/home/thilo/miniconda3/envs/convexgating/lib/python3.8/site-packages/keras/utils/traceback_utils.py\", line 70, in error_handler\n        raise e.with_traceback(filtered_tb) from None\n    File \"/tmp/__autograph_generated_filefpg01c3p.py\", line 14, in tf__call\n        retval_ = ag__.converted_call(ag__.ld(tf).Tensor, (1.0,), None, fscope)\n\n    TypeError: Exception encountered when calling layer 'in_hull_28' (type InHull).\n    \n    in user code:\n    \n        File \"/tmp/ipykernel_16662/3294885795.py\", line 32, in call  *\n            return tf.Tensor(1.0)\n    \n        TypeError: __init__() missing 2 required positional arguments: 'value_index' and 'dtype'\n    \n    \n    Call arguments received by layer 'in_hull_28' (type InHull):\n      • inputs=tf.Tensor(shape=(1, 3), dtype=float32)\n",
     "output_type": "error",
     "traceback": [
      "\u001b[0;31m---------------------------------------------------------------------------\u001b[0m",
      "\u001b[0;31mTypeError\u001b[0m                                 Traceback (most recent call last)",
      "\u001b[1;32m/home/thilo/Documents/convexnetworking/wrongConvexNetwork.ipynb Cell 9\u001b[0m in \u001b[0;36m<cell line: 6>\u001b[0;34m()\u001b[0m\n\u001b[1;32m      <a href='vscode-notebook-cell:/home/thilo/Documents/convexnetworking/wrongConvexNetwork.ipynb#W5sZmlsZQ%3D%3D?line=1'>2</a>\u001b[0m model\u001b[39m.\u001b[39mcompile(optimizer\u001b[39m=\u001b[39m\u001b[39m'\u001b[39m\u001b[39mAdam\u001b[39m\u001b[39m'\u001b[39m, loss\u001b[39m=\u001b[39m\u001b[39m'\u001b[39m\u001b[39mBinaryCrossentropy\u001b[39m\u001b[39m'\u001b[39m, metrics \u001b[39m=\u001b[39m [\u001b[39m\"\u001b[39m\u001b[39maccuracy\u001b[39m\u001b[39m\"\u001b[39m])\n\u001b[1;32m      <a href='vscode-notebook-cell:/home/thilo/Documents/convexnetworking/wrongConvexNetwork.ipynb#W5sZmlsZQ%3D%3D?line=2'>3</a>\u001b[0m \u001b[39m# model.compile(optimizer='Adam', loss=custom_loss(xs), metrics = [\"accuracy\"])\u001b[39;00m\n\u001b[0;32m----> <a href='vscode-notebook-cell:/home/thilo/Documents/convexnetworking/wrongConvexNetwork.ipynb#W5sZmlsZQ%3D%3D?line=5'>6</a>\u001b[0m history \u001b[39m=\u001b[39m model\u001b[39m.\u001b[39;49mfit(xs, ys, epochs\u001b[39m=\u001b[39;49m\u001b[39m10\u001b[39;49m, batch_size\u001b[39m=\u001b[39;49m\u001b[39m1\u001b[39;49m, verbose \u001b[39m=\u001b[39;49m \u001b[39m0\u001b[39;49m)\n\u001b[1;32m      <a href='vscode-notebook-cell:/home/thilo/Documents/convexnetworking/wrongConvexNetwork.ipynb#W5sZmlsZQ%3D%3D?line=6'>7</a>\u001b[0m model\u001b[39m.\u001b[39msummary()\n",
      "File \u001b[0;32m~/miniconda3/envs/convexgating/lib/python3.8/site-packages/keras/utils/traceback_utils.py:70\u001b[0m, in \u001b[0;36mfilter_traceback.<locals>.error_handler\u001b[0;34m(*args, **kwargs)\u001b[0m\n\u001b[1;32m     67\u001b[0m     filtered_tb \u001b[39m=\u001b[39m _process_traceback_frames(e\u001b[39m.\u001b[39m__traceback__)\n\u001b[1;32m     68\u001b[0m     \u001b[39m# To get the full stack trace, call:\u001b[39;00m\n\u001b[1;32m     69\u001b[0m     \u001b[39m# `tf.debugging.disable_traceback_filtering()`\u001b[39;00m\n\u001b[0;32m---> 70\u001b[0m     \u001b[39mraise\u001b[39;00m e\u001b[39m.\u001b[39mwith_traceback(filtered_tb) \u001b[39mfrom\u001b[39;00m \u001b[39mNone\u001b[39m\n\u001b[1;32m     71\u001b[0m \u001b[39mfinally\u001b[39;00m:\n\u001b[1;32m     72\u001b[0m     \u001b[39mdel\u001b[39;00m filtered_tb\n",
      "File \u001b[0;32m/tmp/__autograph_generated_filemdlbkn2w.py:15\u001b[0m, in \u001b[0;36mouter_factory.<locals>.inner_factory.<locals>.tf__train_function\u001b[0;34m(iterator)\u001b[0m\n\u001b[1;32m     13\u001b[0m \u001b[39mtry\u001b[39;00m:\n\u001b[1;32m     14\u001b[0m     do_return \u001b[39m=\u001b[39m \u001b[39mTrue\u001b[39;00m\n\u001b[0;32m---> 15\u001b[0m     retval_ \u001b[39m=\u001b[39m ag__\u001b[39m.\u001b[39mconverted_call(ag__\u001b[39m.\u001b[39mld(step_function), (ag__\u001b[39m.\u001b[39mld(\u001b[39mself\u001b[39m), ag__\u001b[39m.\u001b[39mld(iterator)), \u001b[39mNone\u001b[39;00m, fscope)\n\u001b[1;32m     16\u001b[0m \u001b[39mexcept\u001b[39;00m:\n\u001b[1;32m     17\u001b[0m     do_return \u001b[39m=\u001b[39m \u001b[39mFalse\u001b[39;00m\n",
      "File \u001b[0;32m/tmp/__autograph_generated_filefpg01c3p.py:14\u001b[0m, in \u001b[0;36mouter_factory.<locals>.inner_factory.<locals>.tf__call\u001b[0;34m(self, inputs)\u001b[0m\n\u001b[1;32m     12\u001b[0m \u001b[39mtry\u001b[39;00m:\n\u001b[1;32m     13\u001b[0m     do_return \u001b[39m=\u001b[39m \u001b[39mTrue\u001b[39;00m\n\u001b[0;32m---> 14\u001b[0m     retval_ \u001b[39m=\u001b[39m ag__\u001b[39m.\u001b[39mconverted_call(ag__\u001b[39m.\u001b[39mld(tf)\u001b[39m.\u001b[39mTensor, (\u001b[39m1.0\u001b[39m,), \u001b[39mNone\u001b[39;00m, fscope)\n\u001b[1;32m     15\u001b[0m \u001b[39mexcept\u001b[39;00m:\n\u001b[1;32m     16\u001b[0m     do_return \u001b[39m=\u001b[39m \u001b[39mFalse\u001b[39;00m\n",
      "\u001b[0;31mTypeError\u001b[0m: in user code:\n\n    File \"/home/thilo/miniconda3/envs/convexgating/lib/python3.8/site-packages/keras/engine/training.py\", line 1249, in train_function  *\n        return step_function(self, iterator)\n    File \"/home/thilo/miniconda3/envs/convexgating/lib/python3.8/site-packages/keras/engine/training.py\", line 1233, in step_function  **\n        outputs = model.distribute_strategy.run(run_step, args=(data,))\n    File \"/home/thilo/miniconda3/envs/convexgating/lib/python3.8/site-packages/keras/engine/training.py\", line 1222, in run_step  **\n        outputs = model.train_step(data)\n    File \"/home/thilo/miniconda3/envs/convexgating/lib/python3.8/site-packages/keras/engine/training.py\", line 1023, in train_step\n        y_pred = self(x, training=True)\n    File \"/home/thilo/miniconda3/envs/convexgating/lib/python3.8/site-packages/keras/utils/traceback_utils.py\", line 70, in error_handler\n        raise e.with_traceback(filtered_tb) from None\n    File \"/tmp/__autograph_generated_filefpg01c3p.py\", line 14, in tf__call\n        retval_ = ag__.converted_call(ag__.ld(tf).Tensor, (1.0,), None, fscope)\n\n    TypeError: Exception encountered when calling layer 'in_hull_28' (type InHull).\n    \n    in user code:\n    \n        File \"/tmp/ipykernel_16662/3294885795.py\", line 32, in call  *\n            return tf.Tensor(1.0)\n    \n        TypeError: __init__() missing 2 required positional arguments: 'value_index' and 'dtype'\n    \n    \n    Call arguments received by layer 'in_hull_28' (type InHull):\n      • inputs=tf.Tensor(shape=(1, 3), dtype=float32)\n"
     ]
    }
   ],
   "source": [
    "model = keras.Sequential([InHull(1)])\n",
    "model.compile(optimizer='Adam', loss='BinaryCrossentropy', metrics = [\"accuracy\"])\n",
    "# model.compile(optimizer='Adam', loss=custom_loss(xs), metrics = [\"accuracy\"])\n",
    "\n",
    "\n",
    "history = model.fit(xs, ys, epochs=10, batch_size=1, verbose = 0)\n",
    "model.summary()"
   ]
  },
  {
   "cell_type": "code",
   "execution_count": 76,
   "metadata": {},
   "outputs": [
    {
     "name": "stdout",
     "output_type": "stream",
     "text": [
      "Tensor(\"in_hull_27/Sum:0\", shape=(None, 1), dtype=float32)\n",
      "Tensor(\"sequential_27/in_hull_27/Sum:0\", shape=(None, 1), dtype=float32)\n",
      "1/1 [==============================] - 0s 49ms/step\n"
     ]
    },
    {
     "data": {
      "text/plain": [
       "array([[0.00193928]], dtype=float32)"
      ]
     },
     "execution_count": 76,
     "metadata": {},
     "output_type": "execute_result"
    }
   ],
   "source": [
    "xs_test = np.array([[ 0.0, 0.0, 0.0]])\n",
    "\n",
    "model.predict(xs_test)"
   ]
  },
  {
   "cell_type": "code",
   "execution_count": 6,
   "metadata": {},
   "outputs": [
    {
     "name": "stdout",
     "output_type": "stream",
     "text": [
      "Weights:  [[ 0.04484339 -0.01542579  0.01255676]\n",
      " [ 0.02095187  0.01758021 -0.02743695]\n",
      " [-0.02538426  0.02119865  0.0322537 ]\n",
      " [-0.01514442  0.06497443 -0.01204634]]\n",
      "Biases:  [[0. 0. 0.]\n",
      " [0. 0. 0.]\n",
      " [0. 0. 0.]\n",
      " [0. 0. 0.]]\n"
     ]
    }
   ],
   "source": [
    "print(\"Weights: \", model.layers[0].get_weights()[0])\n",
    "print(\"Biases: \", model.layers[0].get_weights()[1])"
   ]
  },
  {
   "cell_type": "code",
   "execution_count": 49,
   "metadata": {},
   "outputs": [
    {
     "name": "stdout",
     "output_type": "stream",
     "text": [
      "<tf.Variable 'Variable:0' shape=(4, 3) dtype=float32, numpy=\n",
      "array([[-0.02217364,  0.02388768, -0.01642606],\n",
      "       [ 0.0470141 , -0.1108605 ,  0.06211011],\n",
      "       [ 0.00317579,  0.00729559,  0.13069701],\n",
      "       [-0.0888112 ,  0.11896175, -0.07816519]], dtype=float32)> <tf.Variable 'Variable:0' shape=(4, 3) dtype=float32, numpy=\n",
      "array([[1., 1., 1.],\n",
      "       [0., 0., 0.],\n",
      "       [0., 0., 0.],\n",
      "       [0., 0., 0.]], dtype=float32)> <tf.Variable 'Variable:0' shape=(3,) dtype=float32, numpy=array([0., 0., 0.], dtype=float32)>\n",
      "stop\n",
      "tf.Tensor([False], shape=(1,), dtype=bool)\n"
     ]
    }
   ],
   "source": [
    "weight = tf.Variable([[-0.02217364,  0.02388768, -0.01642606],\n",
    "       [ 0.0470141 , -0.1108605 ,  0.06211011],\n",
    "       [ 0.00317579,  0.00729559,  0.13069701],\n",
    "       [-0.0888112 ,  0.11896175, -0.07816519]])\n",
    "bias = tf.Variable([[1., 1., 1.],\n",
    "       [0., 0., 0.],\n",
    "       [0., 0., 0.],\n",
    "       [0., 0., 0.]])\n",
    "input = tf.Variable([0.0,0.0,0.0])\n",
    "point = input\n",
    "print(weight, bias, point)\n",
    "print(\"stop\")\n",
    "dots = tf.Variable([K.sum(weight[i] * (bias[i] - point), axis = -1, keepdims = True) for i in range(4)])#range(len(self.w)/2)]\n",
    "# dots = dots/dots\n",
    "print(dots[1] == 1)"
   ]
  },
  {
   "cell_type": "code",
   "execution_count": 6,
   "metadata": {},
   "outputs": [
    {
     "name": "stdout",
     "output_type": "stream",
     "text": [
      "[[0.88724768 0.7934657  0.6324761 ]\n",
      " [0.83078754 0.44004283 0.635758  ]\n",
      " [0.33647652 0.92324053 0.86827978]\n",
      " ...\n",
      " [0.18818799 0.73330666 0.39180892]\n",
      " [0.98370983 0.93480106 0.39973269]\n",
      " [0.12962338 0.76257981 0.94893442]]\n"
     ]
    }
   ],
   "source": [
    "xs = np.array([np.random.rand(1000,3) for i in range(1)])[0]\n",
    "print(xs)\n",
    "xy = np.array( for x in xs)"
   ]
  }
 ],
 "metadata": {
  "kernelspec": {
   "display_name": "Python 3.8.13 ('convexgating')",
   "language": "python",
   "name": "python3"
  },
  "language_info": {
   "codemirror_mode": {
    "name": "ipython",
    "version": 3
   },
   "file_extension": ".py",
   "mimetype": "text/x-python",
   "name": "python",
   "nbconvert_exporter": "python",
   "pygments_lexer": "ipython3",
   "version": "3.8.15"
  },
  "orig_nbformat": 4,
  "vscode": {
   "interpreter": {
    "hash": "c4563856c7e00c136b2f0bc8bd3f700cb142f11a70aad1c3bfb1747bfd95dcf4"
   }
  }
 },
 "nbformat": 4,
 "nbformat_minor": 2
}
